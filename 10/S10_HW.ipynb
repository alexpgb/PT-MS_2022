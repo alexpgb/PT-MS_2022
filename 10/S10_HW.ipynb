{
 "cells": [
  {
   "cell_type": "code",
   "execution_count": 2,
   "id": "6a9c00df",
   "metadata": {},
   "outputs": [],
   "source": [
    "# 1. Провести дисперсионный анализ для определения того, есть ли различия среднего роста среди взрослых\n",
    "# футболистов,\n",
    "# хоккеистов \n",
    "# и штангистов. \n",
    "# Даны значения роста в трех группах случайно выбранных спортсменов:\n",
    "# Футболисты: 173, 175, 180, 178, 177, 185, 183, 182. \n",
    "# Хоккеисты:  177, 179, 180, 188, 177, 172, 171, 184, 180. \n",
    "# Штангисты:  172, 173, 169, 177, 166, 180, 178, 177, 172, 166, 170."
   ]
  },
  {
   "cell_type": "code",
   "execution_count": 66,
   "id": "52f16c08",
   "metadata": {},
   "outputs": [],
   "source": [
    "import numpy as np\n",
    "import scipy.stats as stats\n",
    "from scipy.stats import bartlett\n",
    "import matplotlib.pyplot as plt\n",
    "import pandas as pd"
   ]
  },
  {
   "cell_type": "code",
   "execution_count": 4,
   "id": "d4ae967c",
   "metadata": {},
   "outputs": [],
   "source": [
    "y1 = np.array([173, 175, 180, 178, 177, 185, 183, 182])\n",
    "y2 = np.array([177, 179, 180, 188, 177, 172, 171, 184, 180])\n",
    "y3 = np.array([172, 173, 169, 177, 166, 180, 178, 177, 172, 166, 170])"
   ]
  },
  {
   "cell_type": "code",
   "execution_count": 29,
   "id": "8ac5693d",
   "metadata": {},
   "outputs": [
    {
     "data": {
      "text/plain": [
       "array([173, 175, 180, 178, 177, 185, 183, 182, 177, 179, 180, 188, 177,\n",
       "       172, 171, 184, 180, 172, 173, 169, 177, 166, 180, 178, 177, 172,\n",
       "       166, 170])"
      ]
     },
     "execution_count": 29,
     "metadata": {},
     "output_type": "execute_result"
    }
   ],
   "source": [
    "# Y = np.array([y1.mean(), y2.mean(), y3.mean()]) -- так не правильно\n",
    "Y = np.array([* y1, *y2, *y3])\n",
    "Y"
   ]
  },
  {
   "cell_type": "code",
   "execution_count": 30,
   "id": "de870ed3",
   "metadata": {},
   "outputs": [
    {
     "data": {
      "text/plain": [
       "253.9074675324678"
      ]
     },
     "execution_count": 30,
     "metadata": {},
     "output_type": "execute_result"
    }
   ],
   "source": [
    "Sf = ((y1.mean() - Y.mean())**2) * y1.size +\\\n",
    "     ((y2.mean() - Y.mean())**2) * y2.size +\\\n",
    "     ((y3.mean() - Y.mean())**2) * y3.size\n",
    "Sf"
   ]
  },
  {
   "cell_type": "code",
   "execution_count": 31,
   "id": "aa8e7918",
   "metadata": {},
   "outputs": [
    {
     "data": {
      "text/plain": [
       "126.9537337662339"
      ]
     },
     "execution_count": 31,
     "metadata": {},
     "output_type": "execute_result"
    }
   ],
   "source": [
    "σ2f = Sf / (3 - 1)\n",
    "σ2f"
   ]
  },
  {
   "cell_type": "code",
   "execution_count": 32,
   "id": "8c047901",
   "metadata": {},
   "outputs": [
    {
     "data": {
      "text/plain": [
       "577.0568181818182"
      ]
     },
     "execution_count": 32,
     "metadata": {},
     "output_type": "execute_result"
    }
   ],
   "source": [
    "Sres = np.sum((y1 - y1.mean())**2) + np.sum((y2 - y2.mean())**2) + np.sum((y3 - y3.mean())**2)\n",
    "Sres"
   ]
  },
  {
   "cell_type": "code",
   "execution_count": 54,
   "id": "fbbfcf09",
   "metadata": {},
   "outputs": [
    {
     "data": {
      "text/plain": [
       "23.08227272727273"
      ]
     },
     "execution_count": 54,
     "metadata": {},
     "output_type": "execute_result"
    }
   ],
   "source": [
    "σ2res = Sres / (y1.size + y2.size + y3.size - (3))\n",
    "σ2res"
   ]
  },
  {
   "cell_type": "code",
   "execution_count": 55,
   "id": "3d654bd5",
   "metadata": {},
   "outputs": [
    {
     "data": {
      "text/plain": [
       "830.9642857142854"
      ]
     },
     "execution_count": 55,
     "metadata": {},
     "output_type": "execute_result"
    }
   ],
   "source": [
    "Sgen = np.sum((np.array([*y1, *y2, *y3]) - Y.mean())**2)\n",
    "Sgen"
   ]
  },
  {
   "cell_type": "code",
   "execution_count": 56,
   "id": "f8f2bcc3",
   "metadata": {},
   "outputs": [
    {
     "data": {
      "text/plain": [
       "-5.684341886080801e-13"
      ]
     },
     "execution_count": 56,
     "metadata": {},
     "output_type": "execute_result"
    }
   ],
   "source": [
    "Sgen - Sf - Sres"
   ]
  },
  {
   "cell_type": "code",
   "execution_count": 57,
   "id": "29bd5f86",
   "metadata": {},
   "outputs": [],
   "source": [
    "# С учетом округлений можно считать, что Sgen = Sf + Sres\n",
    "# Расчеты выполнены верно"
   ]
  },
  {
   "cell_type": "code",
   "execution_count": 58,
   "id": "119653bf",
   "metadata": {},
   "outputs": [
    {
     "data": {
      "text/plain": [
       "5.500053450812598"
      ]
     },
     "execution_count": 58,
     "metadata": {},
     "output_type": "execute_result"
    }
   ],
   "source": [
    "F = σ2f / σ2res\n",
    "F"
   ]
  },
  {
   "cell_type": "code",
   "execution_count": 59,
   "id": "0d670bda",
   "metadata": {},
   "outputs": [
    {
     "data": {
      "text/plain": [
       "F_onewayResult(statistic=5.500053450812596, pvalue=0.010482206918698693)"
      ]
     },
     "execution_count": 59,
     "metadata": {},
     "output_type": "execute_result"
    }
   ],
   "source": [
    "stats.f_oneway(y1, y2, y3)"
   ]
  },
  {
   "cell_type": "code",
   "execution_count": null,
   "id": "1dac2a90",
   "metadata": {},
   "outputs": [],
   "source": [
    "# Значения совпали.\n",
    "# Определим табличное значение критерия Фишера для уровня статистической значимости 0,95 (ошибка 0,05)\n",
    "# Степень свободы числителя k - 1 = 3-1 =2 \n",
    "# Степень свободы знаменателя  n - k = 28 - 3 = 25\n",
    "# Ftabl = 3.38\n",
    "# Т.к. расчетное значение попадает в область принятия гипотезы H1 \n",
    "# => между группами существуют статистически значимые различия. \n",
    "# p-value меньше α, что говорит о принятии альтернативной гипотезы."
   ]
  },
  {
   "cell_type": "code",
   "execution_count": null,
   "id": "257cb1ee",
   "metadata": {},
   "outputs": [],
   "source": [
    "# Оценим возможность применения проведенного дисперсионного анализа:\n",
    "# 1. Значения групп должны следовать нормальному распределению.\n",
    "# 2. Однородность дисперсий\n",
    "# 3. Независимость измерений."
   ]
  },
  {
   "cell_type": "code",
   "execution_count": 60,
   "id": "860e746b",
   "metadata": {},
   "outputs": [
    {
     "name": "stdout",
     "output_type": "stream",
     "text": [
      "ShapiroResult(statistic=0.9775082468986511, pvalue=0.9495404362678528)\n",
      "ShapiroResult(statistic=0.9579196572303772, pvalue=0.7763139009475708)\n",
      "ShapiroResult(statistic=0.9386808276176453, pvalue=0.5051165223121643)\n"
     ]
    }
   ],
   "source": [
    "# выполним проверку нормального распределения используя тест Шапиро\n",
    "print(stats.shapiro(y1))\n",
    "print(stats.shapiro(y2))\n",
    "print(stats.shapiro(y3))"
   ]
  },
  {
   "cell_type": "code",
   "execution_count": null,
   "id": "bbe71792",
   "metadata": {},
   "outputs": [],
   "source": [
    "# для всех групп значение p-value свидетельствует\n",
    "# в пользу нулевой гипотезы, что нет отличий от нормального распределения"
   ]
  },
  {
   "cell_type": "code",
   "execution_count": 61,
   "id": "646823a7",
   "metadata": {},
   "outputs": [
    {
     "data": {
      "text/plain": [
       "BartlettResult(statistic=0.4640521043406442, pvalue=0.7929254656083131)"
      ]
     },
     "execution_count": 61,
     "metadata": {},
     "output_type": "execute_result"
    }
   ],
   "source": [
    "# выполним проверку на однородность дисперсий с помощью теста Бартлета\n",
    "stats.bartlett(y1, y2, y3)"
   ]
  },
  {
   "cell_type": "code",
   "execution_count": null,
   "id": "a5d6b4f6",
   "metadata": {},
   "outputs": [],
   "source": [
    "# значение p-value свидетельствует в пользу нулевой гипотезы об отстутствии статистически значимых различий\n",
    "# диперсии однородны.\n",
    "\n",
    "# результаты дисперсионного анализа могут быть использованы."
   ]
  },
  {
   "cell_type": "code",
   "execution_count": 67,
   "id": "6aabbf9a",
   "metadata": {},
   "outputs": [],
   "source": [
    "# с проведением post ad hoc test возникли сложности, т.к. выборки разного размера. Информации, как провести попарное\n",
    "# сравнение для выборок различного объема не нашел."
   ]
  },
  {
   "cell_type": "code",
   "execution_count": null,
   "id": "a4b958c3",
   "metadata": {},
   "outputs": [],
   "source": []
  }
 ],
 "metadata": {
  "kernelspec": {
   "display_name": "Python 3 (ipykernel)",
   "language": "python",
   "name": "python3"
  },
  "language_info": {
   "codemirror_mode": {
    "name": "ipython",
    "version": 3
   },
   "file_extension": ".py",
   "mimetype": "text/x-python",
   "name": "python",
   "nbconvert_exporter": "python",
   "pygments_lexer": "ipython3",
   "version": "3.10.6"
  }
 },
 "nbformat": 4,
 "nbformat_minor": 5
}
