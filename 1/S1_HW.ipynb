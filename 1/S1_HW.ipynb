{
 "cells": [
  {
   "cell_type": "code",
   "execution_count": 2,
   "id": "58ed96bb",
   "metadata": {},
   "outputs": [],
   "source": [
    "import numpy  as np\n",
    "from math import factorial"
   ]
  },
  {
   "cell_type": "code",
   "execution_count": 3,
   "id": "ca3d923c",
   "metadata": {},
   "outputs": [],
   "source": [
    "def combinations (n, m):\n",
    "    return factorial(n)//(factorial(n-m)*factorial(m))\n",
    "def permutation (n):\n",
    "    return factorial(n)\n",
    "def arrangements(n, m):\n",
    "    return factorial(n)//factorial(n-m)\n"
   ]
  },
  {
   "cell_type": "code",
   "execution_count": 7,
   "id": "70a182c4",
   "metadata": {},
   "outputs": [
    {
     "name": "stdout",
     "output_type": "stream",
     "text": [
      "а) - 0.0026410564225690276\n",
      "б) - 0.25555083571890297\n"
     ]
    }
   ],
   "source": [
    "# Задача 1.\n",
    "# Из колоды в 52 карты извлекаются случайным образом 4 карты. \n",
    "# a) Найти вероятность того, что все карты – крести. \n",
    "# б) Найти вероятность, что среди 4-х карт окажется хотя бы один туз.\n",
    "# а) P = m / n\n",
    "P = combinations(13, 4) / combinations(52, 4)\n",
    "print(f'а) - {P}')\n",
    "# б) P = m / n\n",
    "P = combinations(4, 1)* combinations(52-4, 3) / combinations(52, 4)\n",
    "print(f'б) - {P}')"
   ]
  },
  {
   "cell_type": "code",
   "execution_count": 8,
   "id": "b1f985da",
   "metadata": {},
   "outputs": [
    {
     "name": "stdout",
     "output_type": "stream",
     "text": [
      "0.001388888888888889\n"
     ]
    }
   ],
   "source": [
    "# Задача 2.\n",
    "# На входной двери подъезда установлен кодовый замок, содержащий десять кнопок с цифрами от 0 до 9. \n",
    "# Код содержит три цифры, которые нужно нажать одновременно. \n",
    "# Какова вероятность того, что человек, не знающий код, откроет дверь с первой попытки?\n",
    "# Решаем через классическое определение вероятности: P = m / n \n",
    "# количество исходов, благоприятствующих событию А - открытие замка. m = 1\n",
    "# n общее количество возможных исходов определяется через количество размещений из 10 по 3\n",
    "P = 1 / arrangements (10,3)\n",
    "print(P)"
   ]
  },
  {
   "cell_type": "code",
   "execution_count": 13,
   "id": "321b7c2b",
   "metadata": {},
   "outputs": [
    {
     "name": "stdout",
     "output_type": "stream",
     "text": [
      "0.18461538461538463\n",
      "0.18461538461538457\n"
     ]
    }
   ],
   "source": [
    "# Задача 3.\n",
    "# В ящике имеется 15 деталей, из которых 9 окрашены. \n",
    "# Рабочий случайным образом извлекает 3 детали. \n",
    "# Какова вероятность того, что все извлеченные детали окрашены?\n",
    "# Решаем через классическое определение вероятности: P = m / n \n",
    "# количество исходов, благоприятствующих событию А - среди извлеченных - все окрашенные. m = сочетания из 9 по 3\n",
    "# n общее количество возможных исходов определяется через количество сочетаний из 15 по 3\n",
    "P = combinations(9, 3) / combinations(15, 3)\n",
    "print(P)\n",
    "# Либо \n",
    "P = (combinations(9, 1) / combinations(15, 1)) \\\n",
    "  * (combinations(8, 1) / combinations(14, 1)) \\\n",
    "  * (combinations(7, 1) / combinations(13, 1))\n",
    "print(P)"
   ]
  },
  {
   "cell_type": "code",
   "execution_count": 14,
   "id": "b4038305",
   "metadata": {},
   "outputs": [
    {
     "name": "stdout",
     "output_type": "stream",
     "text": [
      "0.00020202020202020202\n"
     ]
    }
   ],
   "source": [
    "# Задача 4.\n",
    "# В лотерее 100 билетов. Из них 2 выигрышных. \n",
    "# Какова вероятность того, что 2 приобретенных билета окажутся выигрышными?\n",
    "# Решаем через классическое определение вероятности: P = m / n \n",
    "# m - количество исходов, благоприятствующих событию А - приобретение двух выигрыщних билетов. Сочетания из 2 по 2 \n",
    "# n - общее количество возможных исходов определяется через количество сочетаний из 100 по 2\n",
    "P = combinations(2, 2) / combinations(100, 2)\n",
    "print(P)"
   ]
  },
  {
   "cell_type": "code",
   "execution_count": null,
   "id": "014fe864",
   "metadata": {},
   "outputs": [],
   "source": []
  }
 ],
 "metadata": {
  "kernelspec": {
   "display_name": "Python 3 (ipykernel)",
   "language": "python",
   "name": "python3"
  },
  "language_info": {
   "codemirror_mode": {
    "name": "ipython",
    "version": 3
   },
   "file_extension": ".py",
   "mimetype": "text/x-python",
   "name": "python",
   "nbconvert_exporter": "python",
   "pygments_lexer": "ipython3",
   "version": "3.10.6"
  }
 },
 "nbformat": 4,
 "nbformat_minor": 5
}
