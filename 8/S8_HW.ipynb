{
 "cells": [
  {
   "cell_type": "code",
   "execution_count": 3,
   "id": "3b3759c7",
   "metadata": {},
   "outputs": [],
   "source": [
    "## Задача 1\n",
    "# Даны значения величины заработной платы заемщиков банка (zp) и значения их поведенческого кредитного скоринга (ks):\n",
    "# zp = [35, 45, 190, 200, 40, 70, 54, 150, 120, 110],\n",
    "# ks = [401, 574, 874, 919, 459, 739, 653, 902, 746, 832].\n",
    "# Найдите ковариацию этих двух величин с помощью элементарных действий, а затем с помощью функции cov из numpy\n",
    "# Полученные значения должны быть равны.\n",
    "# Найдите коэффициент корреляции Пирсона с помощью ковариации и среднеквадратичных отклонений двух признаков,\n",
    "# а затем с использованием функций из библиотек numpy и pandas.\n"
   ]
  },
  {
   "cell_type": "code",
   "execution_count": 4,
   "id": "2e42ee82",
   "metadata": {},
   "outputs": [],
   "source": [
    "import numpy  as np\n",
    "import scipy.stats as stats\n",
    "import matplotlib.pyplot as plt"
   ]
  },
  {
   "cell_type": "code",
   "execution_count": 5,
   "id": "75dd8897",
   "metadata": {},
   "outputs": [],
   "source": [
    "zp = np.array([35, 45, 190, 200, 40, 70, 54, 150, 120, 110])\n",
    "ks = np.array([401, 574, 874, 919, 459, 739, 653, 902, 746, 832])"
   ]
  },
  {
   "cell_type": "code",
   "execution_count": 10,
   "id": "35e034a3",
   "metadata": {},
   "outputs": [
    {
     "data": {
      "image/png": "[encoded data removed]",
      "text/plain": [
       "<Figure size 640x480 with 1 Axes>"
      ]
     },
     "metadata": {},
     "output_type": "display_data"
    }
   ],
   "source": [
    "# Построим график проверим, чтоб зависимость величин не была U образной\n",
    "plt.scatter(zp,ks)\n",
    "plt.title('Зависимость величины ks от zp')\n",
    "plt.xlabel('zp')\n",
    "plt.ylabel('ks')\n",
    "plt.show()\n"
   ]
  },
  {
   "cell_type": "code",
   "execution_count": 7,
   "id": "f104664a",
   "metadata": {},
   "outputs": [
    {
     "name": "stdout",
     "output_type": "stream",
     "text": [
      "[ 35  45 190 200  40  70  54 150 120 110]\n",
      "[401 574 874 919 459 739 653 902 746 832]\n"
     ]
    }
   ],
   "source": [
    "print(zp)\n",
    "print(ks)"
   ]
  },
  {
   "cell_type": "code",
   "execution_count": 8,
   "id": "723a64b8",
   "metadata": {},
   "outputs": [],
   "source": [
    "# одна из формул для расчета cov =  M(X * Y) - M(X) * M(Y), где M(X * Y) произведение двух случайных величин.\n",
    "# согласно определению (насколько я понял) случайная величина, равная произведению двух случайных величин это \n",
    "# все возможные произведения значения одно СВ на другую.\n",
    "# в блокноте это выглядит так np.outer(zp, ks).flatten().mean()\n",
    "# следовательно расчет cov выглядит так \n",
    "# cov = np.outer(zp, ks).flatten().mean() - zp.mean() *  ks.mean()\n",
    "# но по факту этот расчет всегда дает 0, что тоже очевидно, если развернуть расчет.\n",
    "# мы в своих расчета cov делаем так\n",
    "# cov = (zp * ks).mean() - zp.mean() *  ks.mean() # и это обеспечивает правильный результат.\n",
    "# т.е. мы перемножаем поэлелементно, что про не соответствует определению произведения двух СВ.\n",
    "# Почему подход \"по учебнику\", не обеспечивает правильный результат."
   ]
  },
  {
   "cell_type": "code",
   "execution_count": 9,
   "id": "9d2ade29",
   "metadata": {},
   "outputs": [
    {
     "data": {
      "text/plain": [
       "10175.377777777774"
      ]
     },
     "execution_count": 9,
     "metadata": {},
     "output_type": "execute_result"
    }
   ],
   "source": [
    "# Посчитаем cov через формулу для несмещенной ковариации\n",
    "((zp * ks).mean() - zp.mean() *  ks.mean())*(len(ks)/(len(ks)-1))"
   ]
  },
  {
   "cell_type": "code",
   "execution_count": 23,
   "id": "a8b687a4",
   "metadata": {},
   "outputs": [
    {
     "data": {
      "text/plain": [
       "array([[ 3882.93333333, 10175.37777778],\n",
       "       [10175.37777778, 33854.32222222]])"
      ]
     },
     "execution_count": 23,
     "metadata": {},
     "output_type": "execute_result"
    }
   ],
   "source": [
    "# Посчитаем cov через numpy\n",
    "np.cov(zp, ks)\n",
    "# значения совпадают"
   ]
  },
  {
   "cell_type": "code",
   "execution_count": 49,
   "id": "b6fdf2f8",
   "metadata": {},
   "outputs": [
    {
     "data": {
      "text/plain": [
       "62.31318747531162"
      ]
     },
     "execution_count": 49,
     "metadata": {},
     "output_type": "execute_result"
    }
   ],
   "source": [
    "# для расчета коэффициента корреляции Пирсона нужно рассчитать несмещенное СКО\n",
    "σzp_not_off = (((zp - zp.mean())**2).sum()/(zp.size - 1))**0.5\n",
    "σzp_not_off"
   ]
  },
  {
   "cell_type": "code",
   "execution_count": 50,
   "id": "f9fce65f",
   "metadata": {},
   "outputs": [
    {
     "data": {
      "text/plain": [
       "183.99544076477068"
      ]
     },
     "execution_count": 50,
     "metadata": {},
     "output_type": "execute_result"
    }
   ],
   "source": [
    "σks_not_off = (((ks - ks.mean())**2).sum()/(ks.size - 1))**0.5\n",
    "σks_not_off"
   ]
  },
  {
   "cell_type": "code",
   "execution_count": 51,
   "id": "29ea247b",
   "metadata": {},
   "outputs": [
    {
     "name": "stdout",
     "output_type": "stream",
     "text": [
      "62.31318747531162\n",
      "183.99544076477068\n"
     ]
    }
   ],
   "source": [
    "# Посчитаем несмещенные СКО через np\n",
    "print(np.std(zp, ddof=1))\n",
    "print(np.std(ks, ddof=1))\n",
    "# значения совпадают"
   ]
  },
  {
   "cell_type": "code",
   "execution_count": 52,
   "id": "5276f43f",
   "metadata": {},
   "outputs": [
    {
     "data": {
      "text/plain": [
       "0.8874900920739158"
      ]
     },
     "execution_count": 52,
     "metadata": {},
     "output_type": "execute_result"
    }
   ],
   "source": [
    "# посчитаем коэффициент корреляции Пирсона через формулу.\n",
    "(((zp * ks).mean() - zp.mean() *  ks.mean())*(len(ks)/(len(ks)-1)))/(σzp_not_off * σks_not_off)"
   ]
  },
  {
   "cell_type": "code",
   "execution_count": 43,
   "id": "87ea0eb9",
   "metadata": {},
   "outputs": [
    {
     "data": {
      "text/plain": [
       "array([[1.        , 0.88749009],\n",
       "       [0.88749009, 1.        ]])"
      ]
     },
     "execution_count": 43,
     "metadata": {},
     "output_type": "execute_result"
    }
   ],
   "source": [
    "# посчитаем коэффициент корреляции Пирсона через np.\n",
    "np.corrcoef(zp, ks)\n",
    "# значения совпали"
   ]
  },
  {
   "cell_type": "code",
   "execution_count": null,
   "id": "20346347",
   "metadata": {},
   "outputs": [],
   "source": [
    "## Задача 2\n",
    "# Измерены значения IQ выборки студентов,\n",
    "# обучающихся в местных технических вузах:\n",
    "# 131, 125, 115, 122, 131, 115, 107, 99, 125, 111.\n",
    "# Известно, что в генеральной совокупности IQ распределен нормально.\n",
    "# Найдите доверительный интервал для математического ожидания с надежностью 0.95.\n"
   ]
  },
  {
   "cell_type": "code",
   "execution_count": null,
   "id": "8509951b",
   "metadata": {},
   "outputs": [],
   "source": [
    "# при условии, что генеральная совокупность имеет нормальное распределение\n",
    "# Xсреднвыб - delta < Xген < Xсреднвыб + delta\n",
    "# delta - отклонение для среднего определяется как:\n",
    "# delta = ty * SE\n",
    "# ty - Коэффициент доверия\n",
    "# SE - стандартная ошибка среднего \n",
    "# SE = σ / √n"
   ]
  },
  {
   "cell_type": "code",
   "execution_count": 12,
   "id": "c28ae437",
   "metadata": {},
   "outputs": [],
   "source": [
    "x = np.array([131, 125, 115, 122, 131, 115, 107, 99, 125, 111])"
   ]
  },
  {
   "cell_type": "code",
   "execution_count": 19,
   "id": "56cd2b5f",
   "metadata": {},
   "outputs": [
    {
     "data": {
      "text/plain": [
       "10.54566788359614"
      ]
     },
     "execution_count": 19,
     "metadata": {},
     "output_type": "execute_result"
    }
   ],
   "source": [
    "σ = (((x - x.mean())**2).sum() / (x.size - 1))**0.5\n",
    "σ"
   ]
  },
  {
   "cell_type": "code",
   "execution_count": 18,
   "id": "8cf3fe61",
   "metadata": {},
   "outputs": [
    {
     "data": {
      "text/plain": [
       "10.54566788359614"
      ]
     },
     "execution_count": 18,
     "metadata": {},
     "output_type": "execute_result"
    }
   ],
   "source": [
    "# проверим расчет \n",
    "np.std(x, ddof=1)\n",
    "# значения совпадают"
   ]
  },
  {
   "cell_type": "code",
   "execution_count": 22,
   "id": "066c57c1",
   "metadata": {},
   "outputs": [
    {
     "data": {
      "text/plain": [
       "3.3348329959851224"
      ]
     },
     "execution_count": 22,
     "metadata": {},
     "output_type": "execute_result"
    }
   ],
   "source": [
    "SE = σ/(x.size)**0.5\n",
    "SE"
   ]
  },
  {
   "cell_type": "code",
   "execution_count": 23,
   "id": "701f4cdb",
   "metadata": {},
   "outputs": [],
   "source": [
    "# табличное значение ty для надежности 0,95 для степени совбоды k = n-1, k = 10-1 = 9\n",
    "ty = 2.2662"
   ]
  },
  {
   "cell_type": "code",
   "execution_count": 24,
   "id": "06fa913e",
   "metadata": {},
   "outputs": [
    {
     "data": {
      "text/plain": [
       "7.557398535501484"
      ]
     },
     "execution_count": 24,
     "metadata": {},
     "output_type": "execute_result"
    }
   ],
   "source": [
    "delta = ty * SE\n",
    "delta"
   ]
  },
  {
   "cell_type": "code",
   "execution_count": 25,
   "id": "7cde8973",
   "metadata": {},
   "outputs": [
    {
     "name": "stdout",
     "output_type": "stream",
     "text": [
      "Доверительный интервал (110.54260146449852;125.65739853550147)\n"
     ]
    }
   ],
   "source": [
    "print(f'Доверительный интервал ({x.mean() - delta};{x.mean() + delta})')"
   ]
  },
  {
   "cell_type": "code",
   "execution_count": null,
   "id": "ec02efd4",
   "metadata": {},
   "outputs": [],
   "source": [
    "##Задача 3\n",
    "# Известно, что рост футболистов в сборной распределен нормально\n",
    "# с дисперсией генеральной совокупности, равной 25 кв.см. Объем выборки равен 27,\n",
    "# среднее выборочное составляет 174.2. Найдите доверительный интервал для математического\n",
    "# ожидания с надежностью 0.95."
   ]
  },
  {
   "cell_type": "code",
   "execution_count": null,
   "id": "26f63b66",
   "metadata": {},
   "outputs": [],
   "source": [
    "# при условии, что генеральная совокупность имеет нормальное распределение\n",
    "# Xсреднвыб - delta < Xген < Xсреднвыб + delta\n",
    "# delta - отклонение для среднего определяется как:\n",
    "# delta = ty * SE\n",
    "# ty - Коэффициент доверия\n",
    "# SE = √D / n"
   ]
  },
  {
   "cell_type": "code",
   "execution_count": 28,
   "id": "7fcacacd",
   "metadata": {},
   "outputs": [],
   "source": [
    "D = 25\n",
    "n = 27\n",
    "x_med_sampl = 174.2"
   ]
  },
  {
   "cell_type": "code",
   "execution_count": 29,
   "id": "c8d6e177",
   "metadata": {},
   "outputs": [
    {
     "data": {
      "text/plain": [
       "0.9622504486493763"
      ]
     },
     "execution_count": 29,
     "metadata": {},
     "output_type": "execute_result"
    }
   ],
   "source": [
    "SE = (D/n)**0.5\n",
    "SE"
   ]
  },
  {
   "cell_type": "code",
   "execution_count": 33,
   "id": "5f99908e",
   "metadata": {},
   "outputs": [],
   "source": [
    "# известна дисперсия генеральной совокупности для определения доверительного интервала используем z критерий \n",
    "# ty для надежности 0,95 \n",
    "ty = 1.97"
   ]
  },
  {
   "cell_type": "code",
   "execution_count": 35,
   "id": "0f32797b",
   "metadata": {},
   "outputs": [
    {
     "data": {
      "text/plain": [
       "1.8956333838392712"
      ]
     },
     "execution_count": 35,
     "metadata": {},
     "output_type": "execute_result"
    }
   ],
   "source": [
    "delta = ty * SE\n",
    "delta"
   ]
  },
  {
   "cell_type": "code",
   "execution_count": 36,
   "id": "472ecf6c",
   "metadata": {},
   "outputs": [
    {
     "name": "stdout",
     "output_type": "stream",
     "text": [
      "Доверительный интервал (172.3043666161607;176.09563338383927)\n"
     ]
    }
   ],
   "source": [
    "print(f'Доверительный интервал ({x_med_sampl - delta};{x_med_sampl + delta})')"
   ]
  }
 ],
 "metadata": {
  "kernelspec": {
   "display_name": "Python 3 (ipykernel)",
   "language": "python",
   "name": "python3"
  },
  "language_info": {
   "codemirror_mode": {
    "name": "ipython",
    "version": 3
   },
   "file_extension": ".py",
   "mimetype": "text/x-python",
   "name": "python",
   "nbconvert_exporter": "python",
   "pygments_lexer": "ipython3",
   "version": "3.10.6"
  }
 },
 "nbformat": 4,
 "nbformat_minor": 5
}
