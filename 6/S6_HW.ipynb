{
 "cells": [
  {
   "cell_type": "code",
   "execution_count": 59,
   "id": "240e75b1",
   "metadata": {},
   "outputs": [],
   "source": [
    "# Задача 1\n",
    "# Известно, что генеральная совокупность распределена нормально\n",
    "# со средним квадратическим отклонением, равным 16.\n",
    "# Найти доверительный интервал для оценки математического ожидания a с надежностью 0.95,\n",
    "# если выборочная средняя M = 80, а объем выборки n = 256."
   ]
  },
  {
   "cell_type": "code",
   "execution_count": 60,
   "id": "e21fad0c",
   "metadata": {},
   "outputs": [],
   "source": [
    "sigma_gen = 16\n",
    "x_mean_e = 80\n",
    "n = 256\n",
    "gamma = 0.95"
   ]
  },
  {
   "cell_type": "code",
   "execution_count": 61,
   "id": "c86a8558",
   "metadata": {},
   "outputs": [],
   "source": [
    "# формула доверительного интервала |Xген - Xсреднвыб| < delta => -delta <  Xген - Xсреднвыб < + delta =>\n",
    "# Xсреднвыб - delta < Xген < Xсреднвыб + delta\n",
    "# delta - отклонение для среднего определяется как:\n",
    "# delta = ty * SE\n",
    "# ty - Коэффициент доверия\n",
    "# SE - стандартная ошибка среднего \n",
    "# SE = σ / √n\n",
    "# т.к. задана σ генеральной совкупности определение ty будем определять через z критерий\n",
    "# Ф(ty) = γ/2 где γ - доверительня вероятность или надежность оценки."
   ]
  },
  {
   "cell_type": "code",
   "execution_count": 62,
   "id": "67e7456a",
   "metadata": {},
   "outputs": [
    {
     "name": "stdout",
     "output_type": "stream",
     "text": [
      "Доверительный интервал (78.04;81.96)\n"
     ]
    }
   ],
   "source": [
    "# Определяем табличное значение для γ = 0,95 по таблице z значений\n",
    "# Значению γ/2 = 0,475 соответствует \n",
    "ty = 1.96\n",
    "# тогда \n",
    "delta = ty * (16/ n ** 0.5)\n",
    "print(f'Доверительный интервал ({x_mean_e - delta};{x_mean_e + delta})')"
   ]
  },
  {
   "cell_type": "code",
   "execution_count": 63,
   "id": "784e46ca",
   "metadata": {},
   "outputs": [],
   "source": [
    "# Задача 2\n",
    "# В результате 10 независимых измерений некоторой величины X, выполненных с одинаковой точностью,\n",
    "# получены опытные данные:\n",
    "# 6.9, 6.1, 6.2, 6.8, 7.5, 6.3, 6.4, 6.9, 6.7, 6.1\n",
    "# Предполагая, что результаты измерений подчинены нормальному закону распределения вероятностей,\n",
    "# оценить истинное значение величины X при помощи доверительного интервала, покрывающего это\n",
    "# значение с доверительной вероятностью 0,95."
   ]
  },
  {
   "cell_type": "code",
   "execution_count": 64,
   "id": "4cd9ad93",
   "metadata": {},
   "outputs": [],
   "source": [
    "# в качестве истинного значения величины Х примем среднее арифметическое\n",
    "# методика нахождения доверительного интервала аналогична задаче 1\n",
    "# т.к. σ генеральной совокупности не известно в качестве коэффициента доверия используем t критерий Стьюдента"
   ]
  },
  {
   "cell_type": "code",
   "execution_count": 65,
   "id": "c8cc355e",
   "metadata": {},
   "outputs": [
    {
     "name": "stdout",
     "output_type": "stream",
     "text": [
      "0.4508 0.14255547692039053 0.14255603186895402\n"
     ]
    }
   ],
   "source": [
    "# определим статистики выборки\n",
    "import numpy  as np\n",
    "X = np.array([6.9, 6.1, 6.2, 6.8, 7.5, 6.3, 6.4, 6.9, 6.7, 6.1])\n",
    "mean_X = round(X.sum()/ X.size, 5)\n",
    "sigma_not_off = round((((X - mean_X)**2).sum() / (X.size - 1))**0.5, 5)   # рассчитаем несмещенное выборочное СКО\n",
    "SE = sigma_not_off / X.size**0.5\n",
    "print(sigma_not_off, SE, np.sqrt(np.var(X, ddof=1)/X.size)) # для сравнения вычислим SE через функции np. Совпадают."
   ]
  },
  {
   "cell_type": "code",
   "execution_count": 66,
   "id": "495d441c",
   "metadata": {},
   "outputs": [
    {
     "name": "stdout",
     "output_type": "stream",
     "text": [
      "2.262 2.2621571627409915\n"
     ]
    }
   ],
   "source": [
    "from scipy import stats\n",
    "# определим значение ty для γ = 0.95 по таблице для количества степеней свободы n-1 9  2.262\n",
    "ty = 2.262\n",
    "print(ty, stats.t.ppf(0.975, 9)) # для проверки выведем табличное значение из модуля stats"
   ]
  },
  {
   "cell_type": "code",
   "execution_count": 67,
   "id": "40481759",
   "metadata": {},
   "outputs": [
    {
     "name": "stdout",
     "output_type": "stream",
     "text": [
      "0.32246048879392336\n",
      "Доверительный интервал (6.267539511206077;6.912460488793923)\n"
     ]
    }
   ],
   "source": [
    "delta = ty * SE\n",
    "print(delta)\n",
    "print(f'Доверительный интервал ({mean_X - delta};{mean_X + delta})')"
   ]
  },
  {
   "cell_type": "code",
   "execution_count": 68,
   "id": "f0c1475d",
   "metadata": {},
   "outputs": [
    {
     "name": "stdout",
     "output_type": "stream",
     "text": [
      "[175 167 154 174 178 148 160 167 169 170]\n",
      "[178 165 165 173 168 155 160 164 178 175]\n"
     ]
    }
   ],
   "source": [
    "# Задача 3\n",
    "# Рост дочерей 175, 167, 154, 174, 178, 148, 160, 167, 169, 170\n",
    "# Рост матерей 178, 165, 165, 173, 168, 155, 160, 164, 178, 175\n",
    "# Используя эти данные построить 95% доверительный интервал для разности среднего роста родителей и детей.\n",
    "C = np.array([175, 167, 154, 174, 178, 148, 160, 167, 169, 170])\n",
    "M = np.array([178, 165, 165, 173, 168, 155, 160, 164, 178, 175])\n",
    "print(C)\n",
    "print(M)"
   ]
  },
  {
   "cell_type": "code",
   "execution_count": 69,
   "id": "31ae10cf",
   "metadata": {},
   "outputs": [
    {
     "name": "stdout",
     "output_type": "stream",
     "text": [
      "168.1 166.2\n"
     ]
    }
   ],
   "source": [
    "# для решения задачи воспользуемся интервальной оценкой для разности средних арифметических\n",
    "mean_C = np.mean(C)\n",
    "mean_M = np.mean(M)\n",
    "print(mean_M, mean_C)"
   ]
  },
  {
   "cell_type": "code",
   "execution_count": 70,
   "id": "97851951",
   "metadata": {},
   "outputs": [
    {
     "name": "stdout",
     "output_type": "stream",
     "text": [
      "91.06666666666666 60.10000000000001\n"
     ]
    }
   ],
   "source": [
    "# найдем дисперсию каждой выборки\n",
    "D_C = np.var(C, ddof=1)\n",
    "D_M = np.var(M, ddof=1)\n",
    "print(D_C, D_M)"
   ]
  },
  {
   "cell_type": "code",
   "execution_count": 71,
   "id": "33f58bfa",
   "metadata": {},
   "outputs": [
    {
     "name": "stdout",
     "output_type": "stream",
     "text": [
      "75.58333333333334 7.558333333333334\n"
     ]
    }
   ],
   "source": [
    "# найдем общую дисперсию и стандартную ошибку разности средних\n",
    "D = (D_C + D_M)*0.5\n",
    "SEdelta = (D_C/C.size + D_M/M.size)*0.5\n",
    "print(D, SEdelta)"
   ]
  },
  {
   "cell_type": "code",
   "execution_count": 72,
   "id": "0b0eb19b",
   "metadata": {},
   "outputs": [
    {
     "name": "stdout",
     "output_type": "stream",
     "text": [
      "-1.9000000000000057\n",
      "18\n"
     ]
    }
   ],
   "source": [
    "# вычислим доверительный интервал по формуле\n",
    "# DELTA - delta < μ1 - μ2 < DELTA + delta\n",
    "# где \n",
    "# DELTA - разница между средними по выборкам. DELTA = mean_D - mean_M\n",
    "DELTA = mean_C - mean_M\n",
    "print(DELTA)\n",
    "# μ1 - μ2 - разница средних арифметических генеральной совокупности\n",
    "# delta = ty * SEdelta \n",
    "# для нахождения ty при недоступности σ генеральной совокупности используем критерий Стьюдента\n",
    "# количество степеней свободы для разности средних определим k = 2*(n-1)\n",
    "k = 2 * (C.size - 1)\n",
    "print(k)"
   ]
  },
  {
   "cell_type": "code",
   "execution_count": 73,
   "id": "339f7622",
   "metadata": {},
   "outputs": [
    {
     "name": "stdout",
     "output_type": "stream",
     "text": [
      "2.1009 2.10092204024096\n"
     ]
    }
   ],
   "source": [
    "# определим значение ty для γ = 0.95 по таблице для количества степеней свободы k = 18  2.1009\n",
    "ty = 2.1009\n",
    "print(ty, stats.t.ppf(0.975, k)) # для проверки выведем табличное значение из модуля stats"
   ]
  },
  {
   "cell_type": "code",
   "execution_count": 74,
   "id": "697f7513",
   "metadata": {},
   "outputs": [
    {
     "name": "stdout",
     "output_type": "stream",
     "text": [
      "15.879302500000001\n"
     ]
    }
   ],
   "source": [
    "delta = ty * SEdelta\n",
    "print(delta)"
   ]
  },
  {
   "cell_type": "code",
   "execution_count": 75,
   "id": "b5f0afa5",
   "metadata": {},
   "outputs": [
    {
     "name": "stdout",
     "output_type": "stream",
     "text": [
      "Доверительный интервал для разницы среднего роста родителей и детей (-17.779302500000007;13.979302499999996)\n"
     ]
    }
   ],
   "source": [
    "print(f'Доверительный интервал для разницы среднего роста родителей и детей ({DELTA - delta};{DELTA + delta})')"
   ]
  },
  {
   "cell_type": "code",
   "execution_count": null,
   "id": "478b3823",
   "metadata": {},
   "outputs": [],
   "source": [
    "# результат выглядит странным сама разница -1,9 доверительный интервал такой большой."
   ]
  }
 ],
 "metadata": {
  "kernelspec": {
   "display_name": "Python 3 (ipykernel)",
   "language": "python",
   "name": "python3"
  },
  "language_info": {
   "codemirror_mode": {
    "name": "ipython",
    "version": 3
   },
   "file_extension": ".py",
   "mimetype": "text/x-python",
   "name": "python",
   "nbconvert_exporter": "python",
   "pygments_lexer": "ipython3",
   "version": "3.10.6"
  }
 },
 "nbformat": 4,
 "nbformat_minor": 5
}
