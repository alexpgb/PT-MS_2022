{
 "cells": [
  {
   "cell_type": "code",
   "execution_count": 1,
   "id": "f2343b12",
   "metadata": {},
   "outputs": [],
   "source": [
    "import numpy  as np\n",
    "from math import factorial"
   ]
  },
  {
   "cell_type": "code",
   "execution_count": 2,
   "id": "65e55d66",
   "metadata": {},
   "outputs": [],
   "source": [
    "def combinations (n, m):\n",
    "    return factorial(n)//(factorial(n-m)*factorial(m))\n",
    "def permutation (n):\n",
    "    return factorial(n)\n",
    "def arrangements(n, m):\n",
    "    return factorial(n)//factorial(n-m)"
   ]
  },
  {
   "cell_type": "code",
   "execution_count": 3,
   "id": "ed4dad7b",
   "metadata": {},
   "outputs": [
    {
     "name": "stdout",
     "output_type": "stream",
     "text": [
      "0.048061793700746355\n"
     ]
    }
   ],
   "source": [
    "# Задача 1.\n",
    "# Вероятность того, что стрелок попадет в мишень, выстрелив один раз, равна 0.8. \n",
    "# Стрелок выстрелил 100 раз. Найдите вероятность того, что стрелок попадет в цель ровно 85 раз.\n",
    "# Находим решение по формуле Бернулли Pn(k) = C (из n по m) * p**m * q ** (n-m)\n",
    "# P(85) = Комбинация из 100 по 85 *\n",
    "#         вероятность нужногоисхода ** 85 * \n",
    "#         вероятность противоположного исхода 100 - 85\n",
    "p = 0.8\n",
    "m = 85\n",
    "n = 100 \n",
    "P = combinations(n, m) * p**m * (1 - p)**(n - m)\n",
    "print(P)"
   ]
  },
  {
   "cell_type": "code",
   "execution_count": 4,
   "id": "d58556e7",
   "metadata": {},
   "outputs": [
    {
     "name": "stdout",
     "output_type": "stream",
     "text": [
      "а) - 0.13516435986159167\n",
      "б) - 0.27032871972318334\n"
     ]
    }
   ],
   "source": [
    "# Задача 2.\n",
    "# Вероятность того, что лампочка перегорит в течение первого дня эксплуатации, равна 0.0004.\n",
    "# В жилом комплексе после ремонта в один день включили 5000 новых лампочек. \n",
    "# а) Какова вероятность, что ни одна из них не перегорит в первый день? \n",
    "# б) Какова вероятность, что перегорят ровно две?\n",
    "# Для решения возможно применить формулу Пуассона \n",
    "#(вероятность появления события в отдельном испытании мала, большое количество испытаний в серии)\n",
    "# P ≈ (λ ͫ /m!) * e**-λ\n",
    "p = 0.0004\n",
    "n = 5000\n",
    "λ = n * p\n",
    "e = 2.72 \n",
    "# а) \n",
    "m = 0\n",
    "P = (λ**m /factorial(m)) * e ** (λ * -1)\n",
    "print(f'а) - {P}')\n",
    "# б) P = m / n\n",
    "m = 2\n",
    "P = (λ**m /factorial(m)) * e ** (λ * -1)\n",
    "print(f'б) - {P}')"
   ]
  },
  {
   "cell_type": "code",
   "execution_count": 10,
   "id": "9761c26e",
   "metadata": {},
   "outputs": [
    {
     "name": "stdout",
     "output_type": "stream",
     "text": [
      "0.06281178035144776\n",
      "0.06291094528741355\n"
     ]
    }
   ],
   "source": [
    "# Задача 3.\n",
    "# Монету подбросили 144 раза. Какова вероятность, что орел выпадет ровно 70 раз?\n",
    "# Находим решение по формуле Бернулли Pn(k) = C (из n по m) * p**m * q ** (n-m)\n",
    "p = 0.5\n",
    "q = 1 - p\n",
    "m = 70\n",
    "n = 144\n",
    "P = combinations(n, m) * p**m * (1 - p)**(n - m)\n",
    "print(P)\n",
    "# формула Лапласа тоже может подойти npq > 10\n",
    "x = (m - n * p)/(n*p*q)**0.5\n",
    "P = (1 / (n*p*q)**0.5) * (1/ (2 * 3.14)**0.5) * e ** ((-1*x**2)/2)\n",
    "print(P)"
   ]
  },
  {
   "cell_type": "code",
   "execution_count": 18,
   "id": "9b9c9aa5",
   "metadata": {},
   "outputs": [
    {
     "name": "stdout",
     "output_type": "stream",
     "text": [
      "а) - 0.3054545454545455\n",
      "б) - 0.663030303030303\n",
      "в) - 0.9987878787878788\n"
     ]
    }
   ],
   "source": [
    "# Задача 4.\n",
    "# В первом ящике находится 10 мячей, из которых 7 - белые. \n",
    "# Во втором ящике - 11 мячей, из которых 9 белых. \n",
    "# Из каждого ящика вытаскивают случайным образом по два мяча. \n",
    "# A - извлечение белого мяча\n",
    "# B - извлечение не белого мяча\n",
    "# а) Какова вероятность того, что все мячи белые? \n",
    "# по теореме умножения вероятностей независимых событий\n",
    "# P(AAAA) = P1(AA) * P2(AA) = (C из 7 по 2 / C из 10 по 2) * (C из 9 по 2 / C из 11 по 2)\n",
    "P = (combinations(7, 2)/ combinations(10, 2)) * (combinations(9, 2)/combinations(11, 2))\n",
    "print(f'а) - {P}')\n",
    "# б) Какова вероятность того, что ровно два мяча белые? \n",
    "# по теореме умножения вероятностей независимых событий и теореме сложения вероятностей несовместных событий\n",
    "# P(AABB) = P1(AA) * P2(BB) + \n",
    "# 1         P1(AB) * P2(AB) +   \n",
    "# 2         P1(BA) * P2(AB) +   \n",
    "# 3         P1(AB) * P2(BA) +   \n",
    "# 4         P1(BA) * P2(BA) +   \n",
    "#           P1(BB) * P2(AA) =\n",
    "#           P1(AA) * P2(BB) + 4 * P1(AB) * P2(AB) + P1(BB) * P2(AA)\n",
    "P = (combinations(7, 2)/ combinations(10, 2)) * (combinations(2, 2)/combinations(11, 2)) + \\\n",
    "    ((combinations(7, 1) * combinations(3, 1))/ combinations(10, 2)) * \\\n",
    "    ((combinations(9, 1) * combinations(2, 1))/ combinations(11, 2)) * 4 + \\\n",
    "    (combinations(3, 2)/ combinations(10, 2)) * (combinations(9, 2)/combinations(11, 2))\n",
    "print(f'б) - {P}')\n",
    "# в) Какова вероятность того, что хотя бы один мяч белый?\n",
    "# А - хотя бы один белый P(m>=1)\n",
    "# B - противоположное событие - все не белые P(m=0) \n",
    "# События A и B образуют полную группу событий. \n",
    "# P(m>=1) = 1 - P(B)\n",
    "# по теореме умножения вероятностей независимых событий \n",
    "# P(BBBB) = P1(BB) * P2(BB) \n",
    "P = (combinations(3, 2)/ combinations(10, 2)) * (combinations(2, 2)/combinations(11, 2))\n",
    "print(f'в) - {1 - P}')"
   ]
  },
  {
   "cell_type": "code",
   "execution_count": null,
   "id": "7847b263",
   "metadata": {},
   "outputs": [],
   "source": []
  }
 ],
 "metadata": {
  "kernelspec": {
   "display_name": "Python 3 (ipykernel)",
   "language": "python",
   "name": "python3"
  },
  "language_info": {
   "codemirror_mode": {
    "name": "ipython",
    "version": 3
   },
   "file_extension": ".py",
   "mimetype": "text/x-python",
   "name": "python",
   "nbconvert_exporter": "python",
   "pygments_lexer": "ipython3",
   "version": "3.10.6"
  }
 },
 "nbformat": 4,
 "nbformat_minor": 5
}
